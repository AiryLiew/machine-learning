{
 "cells": [
  {
   "cell_type": "code",
   "execution_count": 1,
   "metadata": {},
   "outputs": [],
   "source": [
    "import cv2\n",
    "import numpy as np\n",
    "from PIL import Image\n",
    "img=cv2.imread(\"images/1.jpg\")"
   ]
  },
  {
   "cell_type": "code",
   "execution_count": 4,
   "metadata": {},
   "outputs": [],
   "source": [
    "b=img[:,:,:1]\n",
    "g=img[:,:,1:2]\n",
    "r=img[:,:,2:]"
   ]
  },
  {
   "cell_type": "code",
   "execution_count": 5,
   "metadata": {},
   "outputs": [
    {
     "name": "stdout",
     "output_type": "stream",
     "text": [
      "[[[126]\n",
      "  [126]\n",
      "  [126]\n",
      "  ...\n",
      "  [145]\n",
      "  [145]\n",
      "  [145]]\n",
      "\n",
      " [[126]\n",
      "  [126]\n",
      "  [126]\n",
      "  ...\n",
      "  [145]\n",
      "  [145]\n",
      "  [145]]\n",
      "\n",
      " [[126]\n",
      "  [126]\n",
      "  [126]\n",
      "  ...\n",
      "  [145]\n",
      "  [145]\n",
      "  [145]]\n",
      "\n",
      " ...\n",
      "\n",
      " [[153]\n",
      "  [153]\n",
      "  [153]\n",
      "  ...\n",
      "  [159]\n",
      "  [159]\n",
      "  [159]]\n",
      "\n",
      " [[153]\n",
      "  [153]\n",
      "  [153]\n",
      "  ...\n",
      "  [159]\n",
      "  [159]\n",
      "  [159]]\n",
      "\n",
      " [[153]\n",
      "  [153]\n",
      "  [153]\n",
      "  ...\n",
      "  [159]\n",
      "  [159]\n",
      "  [159]]]\n",
      "(540, 960, 1)\n"
     ]
    }
   ],
   "source": [
    "print(b)\n",
    "print(b.shape)"
   ]
  },
  {
   "cell_type": "code",
   "execution_count": 7,
   "metadata": {},
   "outputs": [
    {
     "data": {
      "text/plain": [
       "array([[[126, 145, 152],\n",
       "        [126, 145, 152],\n",
       "        [126, 145, 152],\n",
       "        ...,\n",
       "        [145, 166, 174],\n",
       "        [145, 166, 174],\n",
       "        [145, 166, 174]],\n",
       "\n",
       "       [[126, 145, 152],\n",
       "        [126, 145, 152],\n",
       "        [126, 145, 152],\n",
       "        ...,\n",
       "        [145, 166, 174],\n",
       "        [145, 166, 174],\n",
       "        [145, 166, 174]],\n",
       "\n",
       "       [[126, 145, 152],\n",
       "        [126, 145, 152],\n",
       "        [126, 145, 152],\n",
       "        ...,\n",
       "        [145, 166, 174],\n",
       "        [145, 166, 174],\n",
       "        [145, 166, 174]],\n",
       "\n",
       "       ...,\n",
       "\n",
       "       [[153, 172, 185],\n",
       "        [153, 172, 185],\n",
       "        [153, 172, 185],\n",
       "        ...,\n",
       "        [159, 179, 184],\n",
       "        [159, 179, 184],\n",
       "        [159, 179, 184]],\n",
       "\n",
       "       [[153, 172, 185],\n",
       "        [153, 172, 185],\n",
       "        [153, 172, 185],\n",
       "        ...,\n",
       "        [159, 179, 184],\n",
       "        [159, 179, 184],\n",
       "        [159, 179, 184]],\n",
       "\n",
       "       [[153, 172, 185],\n",
       "        [153, 172, 185],\n",
       "        [153, 172, 185],\n",
       "        ...,\n",
       "        [159, 179, 184],\n",
       "        [159, 179, 184],\n",
       "        [159, 179, 184]]], dtype=uint8)"
      ]
     },
     "execution_count": 7,
     "metadata": {},
     "output_type": "execute_result"
    }
   ],
   "source": [
    "np.concatenate((b,g,r),axis=2)"
   ]
  },
  {
   "cell_type": "code",
   "execution_count": 2,
   "metadata": {},
   "outputs": [
    {
     "data": {
      "text/plain": [
       "-1"
      ]
     },
     "execution_count": 2,
     "metadata": {},
     "output_type": "execute_result"
    }
   ],
   "source": [
    "cv2.imshow(\"\",img)\n",
    "cv2.waitKey(0)"
   ]
  }
 ],
 "metadata": {
  "kernelspec": {
   "display_name": "Python 3.9.1 64-bit",
   "language": "python",
   "name": "python3"
  },
  "language_info": {
   "codemirror_mode": {
    "name": "ipython",
    "version": 3
   },
   "file_extension": ".py",
   "mimetype": "text/x-python",
   "name": "python",
   "nbconvert_exporter": "python",
   "pygments_lexer": "ipython3",
   "version": "3.9.1"
  },
  "orig_nbformat": 4,
  "vscode": {
   "interpreter": {
    "hash": "f6246b25e200e4c5124e3e61789ac81350562f0761bbcf92ad9e48654207659c"
   }
  }
 },
 "nbformat": 4,
 "nbformat_minor": 2
}
